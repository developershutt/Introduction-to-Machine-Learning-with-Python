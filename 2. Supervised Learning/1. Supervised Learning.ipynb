{
 "cells": [
  {
   "cell_type": "markdown",
   "metadata": {},
   "source": [
    "# Supervised Machine Learning \n",
    "\n",
    "* Supervised learning is the machine learning task of learning a function that maps an input to an output based on example input-output pairs.\n",
    "\n",
    "* Supervised learning is where you have input variables (x) and an output variable (Y) and you use an algorithm to learn the mapping function from the input to the output.\n",
    "\n",
    "\n",
    "\n",
    "# Classification and Regression\n",
    "\n",
    "Classificaion and Regression are two major types of Supervised machine learning.\n",
    "\n",
    "Classification:- In classification, the goal is to predict a class label, which is a choice from a predefined\n",
    "list of possibilities.\n",
    "\n",
    "Example:- In previous tutorial, the prediction of flower using some specification in example of clssification(or multi-class Classification).\n",
    "\n",
    "Regression:- In Regression, the goal is to predict a continuous number, or a floating-point number in programming terms (or real number in mathematical terms).\n",
    "\n",
    "Example:- Predicting a person’s annual income from their education, their age, and where they live is an example of a regression task.\n",
    "\n",
    "\n",
    "# Generalization, Overfitting and Underfitting\n",
    "\n",
    "# Generalization:- \n",
    "If a model is able to make accurate predictions on\n",
    "unseen data, we say it is able to generalize from the training set to the test set. We want to build a model that is able to generalize as accurately as possible.\n",
    "\n",
    "# Overfitting:-\n",
    "Overfitting occurs when you fit a model too closely to the particularities of the training set and obtain a model that works well on the training set but is not able to generalize to new data.\n",
    "\n",
    "# Underfitting:-\n",
    "Underfitting occurs if the model or algorithm shows low varience but high bias (to contrast the opposite overfitting from high varience and low bias).It is often a result of an excessively simple model."
   ]
  },
  {
   "cell_type": "markdown",
   "metadata": {},
   "source": [
    "# Supervised Machine Learning Algorithms\n",
    "\n",
    "We'll now review the most popular machine learning algorithms and explain how they learn from data and how they make prediction.\n",
    "We'll also look on the concept of model complexity plays out for each of these models and provide overview of how each algorithm build a model.\n",
    "\n",
    "# Let's get started"
   ]
  },
  {
   "cell_type": "code",
   "execution_count": null,
   "metadata": {},
   "outputs": [],
   "source": []
  }
 ],
 "metadata": {
  "kernelspec": {
   "display_name": "Python 3",
   "language": "python",
   "name": "python3"
  },
  "language_info": {
   "codemirror_mode": {
    "name": "ipython",
    "version": 3
   },
   "file_extension": ".py",
   "mimetype": "text/x-python",
   "name": "python",
   "nbconvert_exporter": "python",
   "pygments_lexer": "ipython3",
   "version": "3.6.2"
  }
 },
 "nbformat": 4,
 "nbformat_minor": 2
}
